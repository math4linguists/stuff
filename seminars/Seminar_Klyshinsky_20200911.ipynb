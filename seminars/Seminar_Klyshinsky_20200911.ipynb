{
 "cells": [
  {
   "cell_type": "markdown",
   "metadata": {},
   "source": [
    "Мы хотим сделать обход префиксного дерева, чтобы получить словарь хранимых слов в текстовом представлении.\n",
    "\n",
    "Мы решили, что на конец словаа будет указывать знак звездочки в словаре.\n",
    "\n",
    "В ходе проектирования получилось вот такое изображение, на котором нарисовано дерево несколько раз в разных представлениях.\n",
    "\n",
    "<img src=\"img/seminar_2_dicts.png\">"
   ]
  },
  {
   "cell_type": "code",
   "execution_count": 4,
   "metadata": {},
   "outputs": [],
   "source": [
    "# Функция вывода.\n",
    "def walkingAlongTree(currentNode, prefix=''):\n",
    "    # перебираем все ключи и связанные с ними поддеревья.\n",
    "    for key, value in currentNode.items():\n",
    "        # Если это конец слова - выводим сформированный префикс.\n",
    "        if key == '*':\n",
    "            print(prefix)\n",
    "        # Иначе добавляем к префиксу ключ (очередную букву) и\n",
    "        # рекурсивно вызываем функцию для следующей вершины.\n",
    "        else:\n",
    "            walkingAlongTree(value, prefix+key)"
   ]
  },
  {
   "cell_type": "code",
   "execution_count": 6,
   "metadata": {},
   "outputs": [],
   "source": [
    "# Словарь из слов [кот, ко, мот, мир].\n",
    "tree = {'к':{'о':{'т':{'*':None}, '*':None}}, \n",
    "        'м': {'о':{'т':{'*':None}}, 'и':{'р':{'*':None}}}}"
   ]
  },
  {
   "cell_type": "code",
   "execution_count": 7,
   "metadata": {},
   "outputs": [
    {
     "name": "stdout",
     "output_type": "stream",
     "text": [
      "кот\n",
      "ко\n",
      "мот\n",
      "мир\n"
     ]
    }
   ],
   "source": [
    "# Проверим как оно правильно работает.\n",
    "walkingAlongTree(tree)"
   ]
  }
 ],
 "metadata": {
  "kernelspec": {
   "display_name": "Python 3",
   "language": "python",
   "name": "python3"
  },
  "language_info": {
   "codemirror_mode": {
    "name": "ipython",
    "version": 3
   },
   "file_extension": ".py",
   "mimetype": "text/x-python",
   "name": "python",
   "nbconvert_exporter": "python",
   "pygments_lexer": "ipython3",
   "version": "3.6.9"
  }
 },
 "nbformat": 4,
 "nbformat_minor": 4
}
