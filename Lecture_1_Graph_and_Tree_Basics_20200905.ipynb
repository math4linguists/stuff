{
 "cells": [
  {
   "cell_type": "markdown",
   "metadata": {},
   "source": [
    "# Математика для лингвистов\n",
    "### или\n",
    "## Поддерживающи курс по алгоритмам дискретной математики\n",
    "\n",
    "##### Лектор - Клышинский Эдуард Станиславович; \n",
    "##### Семинары - Клышинский Эдуард Станиславович, Сериков Олег Алексеевич;\n",
    "##### сентябрь - октябрь 2020."
   ]
  },
  {
   "cell_type": "markdown",
   "metadata": {},
   "source": [
    "#### Что надо знать для изучения курса\n",
    "- Python\n",
    "- Jupyter Notebook\n",
    "- Git\n",
    "- Немного математики\n",
    "\n",
    "#### Где будут храниться материалы по курсу?\n",
    "[На GitHub](https://github.com/math4linguists/stuff).<br>\n",
    "А еще я планирую вести запись экрана и звука (то есть буду носить микрофон) и выкладывать ее на своем канале в [YouTube](https://www.youtube.com/channel/UCOmE1lmsiKDexeBAka7byvA/playlists).\n",
    "\n",
    "#### Что нас ждет\n",
    "- Лекции по утрам (чтобы узнать много нового);\n",
    "- семинары после лекций (чтобы узнать чего не было на лекции и потрогать руками);\n",
    "- коллоквиум в середине модуля на семинаре (чтобы мы поняли что вы знаете и поставили оценку);\n",
    "- две лабораторные работы (чтобы точно потрогать руками и получить оценку);\n",
    "- итоговый проект (см. выше).\n",
    "\n",
    "#### Что нам нужно\n",
    "- Разбиться на подгруппы для семинаров (лектору достаются группы 1 и 2, его ассистенту - 3 и 4);\n",
    "- осознать, что занятия будут проходить в аудитории (потому что жизнь сложна и многогранна);\n",
    "- понять как будет устроена итоговая оценка за курс(0.2 за л/р 1, 0.3 за л/р 2, 0.3 за итоговый проект, 0.2 за коллоквиум);\n",
    "- запомнить, что можно и нужно тыкать пальцем в грамматические ошибки в тетрадках за ради будующих поколений, задавать вопросы на лекциях и семинарах, носить маску, быть воспитанным котенком и подавать лапку;\n",
    "- осознать, что всё сложно.\n",
    "\n",
    "#### Дополнительные материалы\n",
    "[Например 1](https://habr.com/ru/post/112421/)"
   ]
  },
  {
   "cell_type": "markdown",
   "metadata": {},
   "source": [
    "### Теоретическая часть\n",
    "\n",
    "{} - неупорядоченное множество.\n",
    "\n",
    "() - упорядоченное множество.\n",
    "\n",
    "{1, 2, 3} = {2, 1, 3} $\\ne$ {1, 2, 3, 4}\n",
    "\n",
    "(1, 2, 3) $\\ne$ (2, 1, 3) $\\ne$ (1, 2, 3, 4)\n",
    "\n",
    "Граф G  — это упорядоченная пара G := (V, E) , где V — непустое множество вершин или узлов, а E — множество пар вершин, называемых рёбрами. Если вершины в ребрах упорядочены, такой граф называется ориентированным. Если вершины в ребрах неупорядочены, такой граф называется неориентированным. \n",
    "\n",
    "Вершины u и v называются концевыми вершинами (или просто концами) ребра e = {u, v}. Ребро, в свою очередь, соединяет эти вершины. Две концевые вершины одного и того же ребра называются соседними. Пара e = (u, v) называется ориентированным ребром или дугой. Тогда u назыввают началом дуги, а v - ее концом.\n",
    "\n",
    "\n",
    "Если u, v — вершины, а e = (u, v)  — соединяющее их ребро, тогда вершина u и ребро e инцидентны, вершина v и ребро e тоже инцидентны. Две вершины (или два ребра) инцидентными быть не могут. Для обозначения ближайших вершин (рёбер) используется понятие смежности. Два ребра, инцидентные одной вершине, называются смежными; две вершины, инцидентные одному ребру, также называются смежными.\n",
    "\n",
    "<center><img src='https://upload.wikimedia.org/wikipedia/commons/thumb/b/bf/Undirected.svg/188px-Undirected.svg.png'></center>\n",
    "\n",
    "Вершины и рёбра графа называются также элементами графа, число вершин в графе |V| — порядком, число рёбер |E| — размером графа.\n",
    "\n",
    "Два ребра называются смежными, если они имеют общую концевую вершину.\n",
    "\n",
    "Два ребра называются кратными, если множества их концевых вершин совпадают.\n",
    "\n",
    "Ребро называется петлёй, если его концы совпадают, то есть e = { v , v }.\n",
    "\n",
    "Граф без петель и кратных рёбер называется простым.\n",
    "\n",
    "Степенью deg  V вершины V называют количество инцидентных ей рёбер (при этом петли считают дважды). Для ориентированного графа такжее различают степени входящих и исходящих вершин.\n",
    "\n",
    "Вершина называется изолированной, если она не является концом ни для одного ребра; листом, если она является концом ровно одного ребра.\n",
    "\n",
    "Маршрутом в графе называют конечную последовательность вершин, в которой каждая вершина (кроме последней) соединена со следующей в последовательности вершиной ребром. Цепью называется маршрут без повторяющихся рёбер. Простой цепью называется маршрут без повторяющихся вершин (откуда следует, что в простой цепи нет повторяющихся рёбер).\n",
    "\n",
    "Ориентированным маршрутом (или путём) в орграфе называют конечную последовательность вершин и дуг, в которой каждый элемент инцидентен предыдущему и последующему.\n",
    "\n",
    "Циклом называют цепь, в которой первая и последняя вершины совпадают. При этом длиной пути (или цикла) называют число составляющих его рёбер. Заметим, что если вершины u и v являются концами некоторого ребра, то согласно данному определению, последовательность (u , v, u) является циклом. Чтобы избежать таких «вырожденных» случаев, вводят следующие понятия.\n",
    "\n",
    "Путь (или цикл) называют простым, если рёбра в нём не повторяются; элементарным, если он простой и вершины в нём не повторяются. "
   ]
  },
  {
   "cell_type": "markdown",
   "metadata": {},
   "source": [
    "#### Представление графа в виде списка ребер\n",
    "\n",
    "Пусть нас имеется некоторое небольшое сообщество, в котором мы можем оценить степень дружеских отношений в полуинтервале \\(0; 1\\]. Можно считать, что люди являются вершинами графа, а отношения между ними задаются дугами. Каждой дуге при этом можно сопоставить число, показывающее близость отношений, и получить взвешенный граф (граф, у которого дугам сопоставлены некоторые значения, совершенно не обязательно числовые).\n",
    "\n",
    "Здесь мы считаем, что в списке хранятся только ненулевые значения. Мы могли бы хранить и нулевые значения, означающие отсутствие каких-либо дружеских отношений, но это приведет к тому, что ненулевые значения затеряются в большом списке нулевых.\n",
    "\n",
    "Прочитаем ребра из файла и посмотрим на них."
   ]
  },
  {
   "cell_type": "code",
   "execution_count": 1,
   "metadata": {},
   "outputs": [
    {
     "name": "stdout",
     "output_type": "stream",
     "text": [
      "['Eleanor', 'Brenda', '0.755928946018455']\n",
      "['Eleanor', 'Dorothy', '0.353553390593274']\n",
      "['Eleanor', 'Verne', '0.5']\n",
      "['Eleanor', 'Laura', '0.755928946018455']\n",
      "['Eleanor', 'Evelyn', '0.530330085889911']\n",
      "['Charlotte', 'Nora', '0.176776695296637']\n",
      "['Frances', 'Helen', '0.223606797749979']\n",
      "['Frances', 'Nora', '0.176776695296637']\n",
      "['Helen', 'Nora', '0.632455532033676']\n",
      "['Nora', 'Eleanor', '0.35355339059327']\n"
     ]
    }
   ],
   "source": [
    "raw_data = []\n",
    "with open(\"data/out_sim_women.csv\") as file:\n",
    "    for item in file:\n",
    "        # При чтении сразу делим строки на составные части.\n",
    "        raw_data.append(item[:-1].split(\";\"))\n",
    "        \n",
    "# Выведем первые и последние пять ребер.\n",
    "for line in raw_data[:5]:\n",
    "    print(line)\n",
    "for line in raw_data[-5:]:\n",
    "    print(line)"
   ]
  },
  {
   "cell_type": "code",
   "execution_count": 4,
   "metadata": {},
   "outputs": [],
   "source": [
    "# Построим множества всех начальных и конечных вершин для нашего списка ребер.\n",
    "# Объединение этих двух списков должно дать нам список всех вершин.\n",
    "people1 = [d[0] for d in raw_data]\n",
    "people2 = [d[1] for d in raw_data]\n",
    "people = list(set(people1) | set(people2))"
   ]
  },
  {
   "cell_type": "code",
   "execution_count": 5,
   "metadata": {},
   "outputs": [
    {
     "data": {
      "text/plain": [
       "['Myrna',\n",
       " 'Pearl',\n",
       " 'Nora',\n",
       " 'Brenda',\n",
       " 'Laura',\n",
       " 'Sylvia',\n",
       " 'Charlotte',\n",
       " 'Helen',\n",
       " 'Verne',\n",
       " 'Evelyn',\n",
       " 'Flora',\n",
       " 'Eleanor',\n",
       " 'Ruth',\n",
       " 'Frances',\n",
       " 'Olivia',\n",
       " 'Dorothy',\n",
       " 'Katherine',\n",
       " 'Theresa']"
      ]
     },
     "execution_count": 5,
     "metadata": {},
     "output_type": "execute_result"
    }
   ],
   "source": [
    "# Кто у нас тут дружит?\n",
    "people"
   ]
  },
  {
   "cell_type": "markdown",
   "metadata": {},
   "source": [
    "Проблемой такого представления является тот факт, что если в коллектив приходит новичок, то с ними еще никто не дружит, то есть у него нет ни одного ребра. Как следствие, мы не сможем восстановить его из списка ребер.\n",
    "\n",
    "У этой проблемы есть несколько решений. Первое - хранить список вершин, а отдельно список ребер."
   ]
  },
  {
   "cell_type": "code",
   "execution_count": 6,
   "metadata": {},
   "outputs": [],
   "source": [
    "# Хорошей идеей будет оформить как функцию чтение людей из файла.\n",
    "# Тогда ее можно будет вызывать из разных мест, а не копировать.\n",
    "def getWomenGraph(filename):\n",
    "    people = []\n",
    "    data = []\n",
    "    with open(filename) as file:\n",
    "        cnt = int(file.readline()[:-1]) # Заодно удалим символ конца строки.\n",
    "        for i in range(cnt):\n",
    "            people.append(file.readline()[:-1])\n",
    "        for item in file:\n",
    "            data.append(item.split(\";\"))\n",
    "    return people, cnt, data"
   ]
  },
  {
   "cell_type": "code",
   "execution_count": 7,
   "metadata": {},
   "outputs": [
    {
     "name": "stdout",
     "output_type": "stream",
     "text": [
      "['Olivia', 'Pearl', 'Flora', 'Helen', 'Verne', 'Theresa', 'Dorothy', 'Nora', 'Eleanor', 'Ruth', 'Brenda', 'Katherine', 'Laura', 'Evelyn', 'Charlotte', 'Frances', 'Sylvia', 'Myrna']\n",
      "['Eleanor', 'Brenda', '0.755928946018455\\n']\n",
      "['Eleanor', 'Dorothy', '0.353553390593274\\n']\n",
      "['Eleanor', 'Verne', '0.5\\n']\n",
      "['Eleanor', 'Laura', '0.755928946018455\\n']\n",
      "['Eleanor', 'Evelyn', '0.530330085889911\\n']\n",
      "['Charlotte', 'Nora', '0.176776695296637\\n']\n",
      "['Frances', 'Helen', '0.223606797749979\\n']\n",
      "['Frances', 'Nora', '0.176776695296637\\n']\n",
      "['Helen', 'Nora', '0.632455532033676\\n']\n",
      "['Nora', 'Eleanor', '0.353553390593274']\n"
     ]
    }
   ],
   "source": [
    "\n",
    "people, people_cnt, raw_data = getWomenGraph(\"data/out_sim_women2.csv\")\n",
    "# Выведем прочитанный список людей.\n",
    "print(people)\n",
    "# Выведем первые и последние пять ребер.\n",
    "for line in raw_data[:5]:\n",
    "    print(line)\n",
    "for line in raw_data[-5:]:\n",
    "    print(line)"
   ]
  },
  {
   "cell_type": "code",
   "execution_count": null,
   "metadata": {},
   "outputs": [],
   "source": []
  },
  {
   "cell_type": "code",
   "execution_count": 8,
   "metadata": {},
   "outputs": [],
   "source": [
    "#%matplotlib notebook\n",
    "import matplotlib.pyplot as plt\n",
    "#import pygraphviz\n",
    "import networkx as nx"
   ]
  },
  {
   "cell_type": "code",
   "execution_count": 9,
   "metadata": {},
   "outputs": [],
   "source": [
    "def buildGraph(data, thr = 0.):\n",
    "    # Добавляем дуги в граф. Вершины добавятся из названий дуг.\n",
    "    G1=nx.Graph()\n",
    "    # Перебираем все найденные персоны.\n",
    "    for p1, p2, w in data:\n",
    "        # Собственно, добавляем дугу к графу. Вершины добавятся сами.\n",
    "        if float(w) >= thr:\n",
    "            G1.add_edge(p1, p2)\n",
    "    return G1\n",
    "    \n",
    "def drawGraph(G):\n",
    "    # Строим расположение вершин графа на плоскости.\n",
    "    pstn=nx.spring_layout(G)\n",
    "    #pstn=nx.kamada_kawai_layout(G)\n",
    "    # Рисуем граф.\n",
    "    _=nx.draw(G, pos=pstn, with_labels=True, node_color='r', edge_color='g')\n",
    "\n",
    "def buildAndDrawGraph(data, thr = 0.):\n",
    "    G1 = buildGraph(raw_data, thr)\n",
    "    drawGraph(G1)\n",
    "    return G1"
   ]
  },
  {
   "cell_type": "code",
   "execution_count": 10,
   "metadata": {},
   "outputs": [
    {
     "data": {
      "text/plain": [
       "<networkx.classes.graph.Graph at 0x7fad64223438>"
      ]
     },
     "execution_count": 10,
     "metadata": {},
     "output_type": "execute_result"
    },
    {
     "data": {
      "image/png": "[encoded data removed]",
      "text/plain": [
       "<Figure size 432x288 with 1 Axes>"
      ]
     },
     "metadata": {},
     "output_type": "display_data"
    }
   ],
   "source": [
    "buildAndDrawGraph(raw_data)"
   ]
  },
  {
   "cell_type": "markdown",
   "metadata": {},
   "source": [
    "На рисунке видно, что граф образует массу циклов. Лаура дружит с Дороти, Дороти дружит с Перл, Перл дружит с Лаурой - путь замкнулся. И подобных в графе много.\n",
    "\n",
    "Но теперь попробуем постепенно повышать планку. Будем называть друзьями не тех, у кого уровень отношений выше нуля, а только тех, у кого он выше порогового значения.\n",
    "\n",
    "Обратите внимание - на уровне 0.6 Оливия и Флора дружат только друг с другом, а с другими вершинами у них нет настолько сильных связей. Граф распадается на два не связанных подграфа, то есть становится **несвязным**. При уровне 0.8 мы получаем четыре отдельных **компоненты связности**."
   ]
  },
  {
   "cell_type": "code",
   "execution_count": 11,
   "metadata": {},
   "outputs": [],
   "source": [
    "from ipywidgets import interact, FloatSlider"
   ]
  },
  {
   "cell_type": "code",
   "execution_count": 12,
   "metadata": {},
   "outputs": [
    {
     "data": {
      "application/vnd.jupyter.widget-view+json": {
       "model_id": "66184fd6651a4800a31aa193cda927b6",
       "version_major": 2,
       "version_minor": 0
      },
      "text/plain": [
       "interactive(children=(FloatSlider(value=0.0, description='Power of friendship:', max=1.0, readout_format='.1f'…"
      ]
     },
     "metadata": {},
     "output_type": "display_data"
    }
   ],
   "source": [
    "def bgraph(threshold):\n",
    "    buildAndDrawGraph(raw_data, threshold)\n",
    "\n",
    "_=interact(bgraph,\n",
    "           threshold=FloatSlider(min=0, max=1, value=0, step=0.1, description='Power of friendship:', readout_format='.1f'),\n",
    "          )\n"
   ]
  },
  {
   "cell_type": "code",
   "execution_count": null,
   "metadata": {},
   "outputs": [],
   "source": []
  },
  {
   "cell_type": "markdown",
   "metadata": {},
   "source": [
    "Еще одним вариантом хранения графа является матрица смежности. Матрица смежности графа G с конечным числом вершин $n$ (пронумерованных числами от 1 до $n$) — это квадратная матрица A размера $n$, в которой значение элемента $a_{ij}$ равно числу рёбер из вершины $i$ графа в вершину $j$. Вместо числа ребер в матрице могут храниться любые другие значения.\n",
    "\n",
    "Построим матрицу смежности на тех же самых данных."
   ]
  },
  {
   "cell_type": "code",
   "execution_count": 19,
   "metadata": {},
   "outputs": [],
   "source": [
    "matr = [[0.0 for j in range(people_cnt)] for i in range(people_cnt)]\n",
    "\n",
    "for item in raw_data:\n",
    "    # По имени человека получчаем его номер в списке вершин (номер вершины).\n",
    "    i1 = people.index(item[0])\n",
    "    i2 = people.index(item[1])\n",
    "    # Так как дружба - понятие симметричное, то и матрицу делаем симметричной.\n",
    "    # Если А дружит с В, то и В дружит с А.\n",
    "    matr[i1][i2] = float(item[2])\n",
    "    matr[i2][i1] = float(item[2])"
   ]
  },
  {
   "cell_type": "code",
   "execution_count": 20,
   "metadata": {},
   "outputs": [],
   "source": [
    "def printMatrix(m):\n",
    "    for line in m:\n",
    "        print(\";\".join([f'{e:3.1f}' for e in line]))\n",
    "        "
   ]
  },
  {
   "cell_type": "code",
   "execution_count": 21,
   "metadata": {},
   "outputs": [
    {
     "name": "stdout",
     "output_type": "stream",
     "text": [
      "0.0;0.4;1.0;0.3;0.4;0.2;0.5;0.5;0.0;0.4;0.0;0.3;0.0;0.2;0.0;0.0;0.3;0.4\n",
      "0.4;0.0;0.4;0.3;0.6;0.6;0.8;0.4;0.6;0.6;0.4;0.5;0.4;0.6;0.0;0.6;0.4;0.6\n",
      "1.0;0.4;0.0;0.3;0.4;0.2;0.5;0.5;0.0;0.4;0.0;0.3;0.0;0.2;0.0;0.0;0.3;0.4\n",
      "0.3;0.3;0.3;0.0;0.7;0.3;0.3;0.6;0.4;0.4;0.3;0.5;0.3;0.2;0.2;0.2;0.7;0.7\n",
      "0.4;0.6;0.4;0.7;0.0;0.5;0.7;0.5;0.5;0.8;0.4;0.6;0.4;0.4;0.2;0.2;0.8;0.8\n",
      "0.2;0.6;0.2;0.3;0.5;0.0;0.5;0.4;0.7;0.7;0.8;0.3;0.8;0.9;0.7;0.7;0.4;0.4\n",
      "0.5;0.8;0.5;0.3;0.7;0.5;0.0;0.2;0.4;0.7;0.3;0.6;0.3;0.5;0.0;0.4;0.5;0.7\n",
      "0.5;0.4;0.5;0.6;0.5;0.4;0.2;0.0;0.4;0.4;0.3;0.7;0.3;0.2;0.2;0.2;0.8;0.5\n",
      "0.0;0.6;0.0;0.4;0.5;0.7;0.4;0.4;0.0;0.8;0.8;0.2;0.8;0.5;0.5;0.8;0.4;0.2\n",
      "0.4;0.6;0.4;0.4;0.8;0.7;0.7;0.4;0.8;0.0;0.6;0.4;0.6;0.5;0.5;0.5;0.6;0.5\n",
      "0.0;0.4;0.0;0.3;0.4;0.8;0.3;0.3;0.8;0.6;0.0;0.2;0.9;0.8;0.8;0.8;0.3;0.2\n",
      "0.3;0.5;0.3;0.5;0.6;0.3;0.6;0.7;0.2;0.4;0.2;0.0;0.2;0.3;0.0;0.2;0.9;0.8\n",
      "0.0;0.4;0.0;0.3;0.4;0.8;0.3;0.3;0.8;0.6;0.9;0.2;0.0;0.8;0.6;0.8;0.3;0.2\n",
      "0.2;0.6;0.2;0.2;0.4;0.9;0.5;0.2;0.5;0.5;0.8;0.3;0.8;0.0;0.5;0.7;0.3;0.4\n",
      "0.0;0.0;0.0;0.2;0.2;0.7;0.0;0.2;0.5;0.5;0.8;0.0;0.6;0.5;0.0;0.5;0.2;0.0\n",
      "0.0;0.6;0.0;0.2;0.2;0.7;0.4;0.2;0.8;0.5;0.8;0.2;0.8;0.7;0.5;0.0;0.2;0.2\n",
      "0.3;0.4;0.3;0.7;0.8;0.4;0.5;0.8;0.4;0.6;0.3;0.9;0.3;0.3;0.2;0.2;0.0;0.8\n",
      "0.4;0.6;0.4;0.7;0.8;0.4;0.7;0.5;0.2;0.5;0.2;0.8;0.2;0.4;0.0;0.2;0.8;0.0\n"
     ]
    }
   ],
   "source": [
    "printMatrix(matr)"
   ]
  },
  {
   "cell_type": "markdown",
   "metadata": {},
   "source": [
    "Здесь девушки дружат практически все о всеми. Но теперь представим себе граф дорог, соединяющих города. Если два города непосредственно соеденены дорогой, в нем ставится расстояние по дороге, в противном случае - ноль.\n",
    "\n",
    "Если взять страну масштаба России, то ненулевых значений в матрице будет не так много. Все-таки прямой дороги из Москвы нет ни в Санкт-Петербург (она идет через Тверь), ни в Новосибирск (надо ехать, например, через Владимир). Матрица будет содержать меньше 10% ненулевых элементов (зависит от числа населенных пунктов) и занимать непозволительно много места.\n",
    "\n",
    "Чтобы сэкономить место надо хранить только ненулевые дуги. Но к списку дуг сложно иметь доступ, так как придется долго искать. Для ускорения будем использовать представление в виде словаря. Словарь первого уровня будет хранить начальные вершины ребер графа. В качестве ключа мы будем использовать название начальной вершины вершины. В качестве значений будет храниться еще один словарь, который будет хранить названия конечных вершин графа и значение, привязанное к данному ребру.\n",
    "\n",
    "```\n",
    "{'Olivia': {'Pearl' : 0.4,\n",
    "            'Flora' : 1.0,\n",
    "            'Helen' : 0.3, ...\n",
    "           }, \n",
    " 'Pearl':  {'Olivia': 0.4,\n",
    "            'Flora' : 0.4,\n",
    "            'Helen' : 0.3, ...\n",
    "           }, \n",
    " ...\n",
    "}\n",
    "\n",
    "```\n",
    "\n",
    "Таким образом, если нам необходимо узнать насколько дружат две выбранные девушки, мы по имени первой получим словарь всех ее связей, а по имени второй - хранимое значение уровня дружбы (или 0 по умолчанию). Фактически, для каждого человека мы храним список всех людей, которых он дружит, причем к человеку привязывается их уровень дружбы. Всех людей много, всех нельзя знать, поэтому, если один человек не знает второго, то он с ним и не дружит. То есть можно вернуть нулевой уровень дружбы."
   ]
  },
  {
   "cell_type": "code",
   "execution_count": 22,
   "metadata": {},
   "outputs": [],
   "source": [
    "from collections import defaultdict"
   ]
  },
  {
   "cell_type": "code",
   "execution_count": 23,
   "metadata": {},
   "outputs": [],
   "source": [
    "people, people_cnt, raw_data = getWomenGraph(\"data/out_sim_women2.csv\")\n",
    "\n",
    "people_dict = defaultdict(lambda: None)\n",
    "\n",
    "for woman in people:\n",
    "    people_dict[woman] = defaultdict(int)\n",
    "    \n",
    "for friends in raw_data:\n",
    "    people_dict[friends[0]][friends[1]] = float(friends[2])"
   ]
  },
  {
   "cell_type": "code",
   "execution_count": 24,
   "metadata": {},
   "outputs": [
    {
     "data": {
      "text/plain": [
       "defaultdict(<function __main__.<lambda>()>,\n",
       "            {'Olivia': defaultdict(int,\n",
       "                         {'Evelyn': 0.25,\n",
       "                          'Pearl': 0.408248290463863,\n",
       "                          'Ruth': 0.353553390593274,\n",
       "                          'Sylvia': 0.267261241912424,\n",
       "                          'Katherine': 0.288675134594813,\n",
       "                          'Myrna': 0.353553390593274,\n",
       "                          'Theresa': 0.25,\n",
       "                          'Helen': 0.316227766016838,\n",
       "                          'Nora': 0.5}),\n",
       "             'Pearl': defaultdict(int,\n",
       "                         {'Ruth': 0.577350269189626,\n",
       "                          'Sylvia': 0.436435780471985,\n",
       "                          'Katherine': 0.471404520791032,\n",
       "                          'Myrna': 0.577350269189626,\n",
       "                          'Theresa': 0.612372435695794,\n",
       "                          'Frances': 0.577350269189626,\n",
       "                          'Helen': 0.258198889747161,\n",
       "                          'Nora': 0.408248290463863}),\n",
       "             'Flora': defaultdict(int,\n",
       "                         {'Olivia': 1.0,\n",
       "                          'Evelyn': 0.25,\n",
       "                          'Pearl': 0.408248290463863,\n",
       "                          'Ruth': 0.353553390593274,\n",
       "                          'Sylvia': 0.267261241912424,\n",
       "                          'Katherine': 0.288675134594813,\n",
       "                          'Myrna': 0.353553390593274,\n",
       "                          'Theresa': 0.25,\n",
       "                          'Helen': 0.316227766016838,\n",
       "                          'Nora': 0.5}),\n",
       "             'Helen': defaultdict(int, {'Nora': 0.632455532033676}),\n",
       "             'Verne': defaultdict(int,\n",
       "                         {'Flora': 0.353553390593274,\n",
       "                          'Olivia': 0.353553390593274,\n",
       "                          'Laura': 0.377964473009227,\n",
       "                          'Evelyn': 0.353553390593274,\n",
       "                          'Pearl': 0.577350269189626,\n",
       "                          'Ruth': 0.75,\n",
       "                          'Sylvia': 0.755928946018455,\n",
       "                          'Katherine': 0.612372435695794,\n",
       "                          'Myrna': 0.75,\n",
       "                          'Theresa': 0.530330085889911,\n",
       "                          'Charlotte': 0.25,\n",
       "                          'Frances': 0.25,\n",
       "                          'Helen': 0.670820393249937,\n",
       "                          'Nora': 0.530330085889911}),\n",
       "             'Theresa': defaultdict(int,\n",
       "                         {'Charlotte': 0.707106781186548,\n",
       "                          'Frances': 0.707106781186548,\n",
       "                          'Helen': 0.316227766016838,\n",
       "                          'Nora': 0.375}),\n",
       "             'Dorothy': defaultdict(int,\n",
       "                         {'Verne': 0.707106781186548,\n",
       "                          'Flora': 0.5,\n",
       "                          'Olivia': 0.5,\n",
       "                          'Laura': 0.267261241912424,\n",
       "                          'Evelyn': 0.5,\n",
       "                          'Pearl': 0.816496580927726,\n",
       "                          'Ruth': 0.707106781186548,\n",
       "                          'Sylvia': 0.534522483824849,\n",
       "                          'Katherine': 0.577350269189626,\n",
       "                          'Myrna': 0.707106781186548,\n",
       "                          'Theresa': 0.5,\n",
       "                          'Frances': 0.353553390593274,\n",
       "                          'Helen': 0.316227766016838,\n",
       "                          'Nora': 0.25}),\n",
       "             'Nora': defaultdict(int, {'Eleanor': 0.353553390593274}),\n",
       "             'Eleanor': defaultdict(int,\n",
       "                         {'Brenda': 0.755928946018455,\n",
       "                          'Dorothy': 0.353553390593274,\n",
       "                          'Verne': 0.5,\n",
       "                          'Laura': 0.755928946018455,\n",
       "                          'Evelyn': 0.530330085889911,\n",
       "                          'Pearl': 0.577350269189626,\n",
       "                          'Ruth': 0.75,\n",
       "                          'Sylvia': 0.377964473009227,\n",
       "                          'Katherine': 0.204124145231932,\n",
       "                          'Myrna': 0.25,\n",
       "                          'Theresa': 0.707106781186548,\n",
       "                          'Charlotte': 0.5,\n",
       "                          'Frances': 0.75,\n",
       "                          'Helen': 0.447213595499958,\n",
       "                          'Nora': 0.353553390593274}),\n",
       "             'Ruth': defaultdict(int,\n",
       "                         {'Sylvia': 0.566946709513841,\n",
       "                          'Katherine': 0.408248290463863,\n",
       "                          'Myrna': 0.5,\n",
       "                          'Theresa': 0.707106781186548,\n",
       "                          'Charlotte': 0.5,\n",
       "                          'Frances': 0.5,\n",
       "                          'Helen': 0.447213595499958,\n",
       "                          'Nora': 0.353553390593274}),\n",
       "             'Brenda': defaultdict(int,\n",
       "                         {'Dorothy': 0.267261241912424,\n",
       "                          'Verne': 0.377964473009227,\n",
       "                          'Laura': 0.857142857142857,\n",
       "                          'Evelyn': 0.801783725737273,\n",
       "                          'Pearl': 0.436435780471985,\n",
       "                          'Ruth': 0.566946709513841,\n",
       "                          'Sylvia': 0.285714285714286,\n",
       "                          'Katherine': 0.154303349962092,\n",
       "                          'Myrna': 0.188982236504614,\n",
       "                          'Theresa': 0.801783725737273,\n",
       "                          'Charlotte': 0.755928946018455,\n",
       "                          'Frances': 0.755928946018455,\n",
       "                          'Helen': 0.338061701891407,\n",
       "                          'Nora': 0.267261241912424}),\n",
       "             'Katherine': defaultdict(int,\n",
       "                         {'Myrna': 0.816496580927726,\n",
       "                          'Theresa': 0.288675134594813,\n",
       "                          'Frances': 0.204124145231932,\n",
       "                          'Helen': 0.547722557505166,\n",
       "                          'Nora': 0.721687836487032}),\n",
       "             'Laura': defaultdict(int,\n",
       "                         {'Evelyn': 0.801783725737273,\n",
       "                          'Pearl': 0.436435780471985,\n",
       "                          'Ruth': 0.566946709513841,\n",
       "                          'Sylvia': 0.285714285714286,\n",
       "                          'Katherine': 0.154303349962092,\n",
       "                          'Myrna': 0.188982236504614,\n",
       "                          'Theresa': 0.801783725737273,\n",
       "                          'Charlotte': 0.566946709513841,\n",
       "                          'Frances': 0.755928946018455,\n",
       "                          'Helen': 0.338061701891407,\n",
       "                          'Nora': 0.267261241912424}),\n",
       "             'Evelyn': defaultdict(int,\n",
       "                         {'Pearl': 0.612372435695794,\n",
       "                          'Ruth': 0.530330085889911,\n",
       "                          'Sylvia': 0.267261241912424,\n",
       "                          'Katherine': 0.288675134594813,\n",
       "                          'Myrna': 0.353553390593274,\n",
       "                          'Theresa': 0.875,\n",
       "                          'Charlotte': 0.530330085889911,\n",
       "                          'Frances': 0.707106781186548,\n",
       "                          'Helen': 0.158113883008419,\n",
       "                          'Nora': 0.25}),\n",
       "             'Charlotte': defaultdict(int,\n",
       "                         {'Frances': 0.5,\n",
       "                          'Helen': 0.223606797749979,\n",
       "                          'Nora': 0.176776695296637}),\n",
       "             'Frances': defaultdict(int,\n",
       "                         {'Helen': 0.223606797749979,\n",
       "                          'Nora': 0.176776695296637}),\n",
       "             'Sylvia': defaultdict(int,\n",
       "                         {'Katherine': 0.925820099772551,\n",
       "                          'Myrna': 0.755928946018455,\n",
       "                          'Theresa': 0.400891862868637,\n",
       "                          'Charlotte': 0.188982236504614,\n",
       "                          'Frances': 0.188982236504614,\n",
       "                          'Helen': 0.676123403782813,\n",
       "                          'Nora': 0.801783725737273}),\n",
       "             'Myrna': defaultdict(int,\n",
       "                         {'Theresa': 0.353553390593274,\n",
       "                          'Frances': 0.25,\n",
       "                          'Helen': 0.670820393249937,\n",
       "                          'Nora': 0.530330085889911})})"
      ]
     },
     "execution_count": 24,
     "metadata": {},
     "output_type": "execute_result"
    }
   ],
   "source": [
    "people_dict"
   ]
  },
  {
   "cell_type": "code",
   "execution_count": 25,
   "metadata": {},
   "outputs": [
    {
     "data": {
      "text/plain": [
       "(0.566946709513841, 0)"
      ]
     },
     "execution_count": 25,
     "metadata": {},
     "output_type": "execute_result"
    }
   ],
   "source": [
    "# Рут дружит с Сильвией, но не дружит с Дороти.\n",
    "people_dict['Ruth']['Sylvia'], people_dict['Ruth']['Dorothy']"
   ]
  },
  {
   "cell_type": "markdown",
   "metadata": {},
   "source": [
    "Мы могли бы и дальше излагать варианты хранения графа, но нам мешает отсутствие представлений об объектно-ориентированном программировании и некоторая сложность отображения некоторых решений.\n",
    "\n",
    "Так, например, мы можем хранить не просто значение уровня дружбы, а пару, первое значение которой хранит уровень дружбы, а второе - словарь конкретного человека. В таком случае, если нам надо пройти путь между двумя людьми, то мы можем написать нужное количество имен идущих подряд. Но, с другой стороны, Рут дружит с Оливией, Оливия дружит с Рут. Если мы будем отображать такой словарь методами по умолчанию, то он начнет бесконечно отрисовывать девушек, что приведет к неприятным последствиям. В графе имеются циклы, по которым мы будем ходить пока у нас не кончится память. Поэтому представим себе такую реализацию, но программировать не будем (хотя она по-своему хороша)."
   ]
  },
  {
   "cell_type": "markdown",
   "metadata": {},
   "source": [
    "### Деревья\n",
    "\n",
    "Под деревом понимается следующий граф:\n",
    "- связаный без циклов;\n",
    "- количество ребер на одно меньше числа вершин.\n",
    "На самом деле эти определения идентичны.\n",
    "\n",
    "В ориентированном дереве одна вершина имеет степень входящих вершин равную 0 (она называется корнем дерева), все остальные имеют степень входящих вершин равную 1. Начальная вершина ребра называется родительской (родителем), конечная - дочерней (потомком). Вершины, из которых не исходит ни одной дуги называются листьями."
   ]
  },
  {
   "cell_type": "markdown",
   "metadata": {},
   "source": [
    "В качестве примера дерева можно привести дерево зависимостей, полученное в результате синтаксического анализа. Возьмем запись дерева в формате CONLLU из [Universal Dependencies](https://universaldependencies.org/).\n",
    "\n",
    "```\n",
    "1\tАлгоритм\tалгоритм\tNOUN\t_\tAnimacy=Inan|Case=Nom|Gender=Masc|Number=Sing\t12\tnsubj\t12:nsubj\tSpaceAfter=No\n",
    "2\t,\t,\tPUNCT\t_\t_\t4\tpunct\t4:punct\t_\n",
    "3\tот\tот\tADP\t_\t_\t4\tcase\t4:case\t_\n",
    "4\tимени\tимя\tNOUN\t_\tAnimacy=Inan|Case=Gen|Gender=Neut|Number=Sing\t1\tconj\t1:conj\t_\n",
    "5\tучёного\tученый\tNOUN\t_\tAnimacy=Anim|Case=Gen|Gender=Masc|Number=Sing\t4\tnmod\t4:nmod\t_\n",
    "6\tаль\tаль\tPART\t_\t_\t5\tappos\t5:appos\tSpaceAfter=No\n",
    "7\t-\t-\tPUNCT\t_\t_\t8\tpunct\t8:punct\tSpaceAfter=No\n",
    "8\tХорезми\tХорезми\tPROPN\t_\tAnimacy=Anim|Case=Gen|Gender=Masc|Number=Sing\t6\tflat:name\t6:flat:name\tSpaceAfter=No\n",
    "9\t,\t,\tPUNCT\t_\t_\t8\tpunct\t8:punct\t_\n",
    "10\t-\t-\tPUNCT\t_\t_\t1\tpunct\t1:punct\t_\n",
    "11\tточный\tточный\tADJ\t_\tCase=Nom|Degree=Pos|Gender=Masc|Number=Sing\t12\tamod\t12:amod\t_\n",
    "12\tнабор\tнабор\tNOUN\t_\tAnimacy=Inan|Case=Nom|Gender=Masc|Number=Sing\t0\troot\t0:root\t_\n",
    "13\tинструкций\tинструкция\tNOUN\t_\tAnimacy=Inan|Case=Gen|Gender=Fem|Number=Plur\t12\tnmod\t12:nmod\tSpaceAfter=No\n",
    "14\t,\t,\tPUNCT\t_\t_\t15\tpunct\t15:punct\t_\n",
    "15\tописывающих\tописывать\tVERB\t_\tAspect=Imp|Case=Gen|Number=Plur|Tense=Pres|VerbForm=Part|Voice=Act\t13\tacl\t13:acl\t_\n",
    "16\tпорядок\tпорядок\tNOUN\t_\tAnimacy=Inan|Case=Acc|Gender=Masc|Number=Sing\t15\tobj\t15:obj\t_\n",
    "17\tдействий\tдействие\tNOUN\t_\tAnimacy=Inan|Case=Gen|Gender=Neut|Number=Plur\t16\tnmod\t16:nmod\t_\n",
    "18\tисполнителя\tисполнитель\tNOUN\t_\tAnimacy=Anim|Case=Gen|Gender=Masc|Number=Sing\t17\tnmod\t17:nmod\t_\n",
    "19\tдля\tдля\tADP\t_\t_\t20\tcase\t20:case\t_\n",
    "20\tдостижения\tдостижение\tNOUN\t_\tAnimacy=Inan|Case=Gen|Gender=Neut|Number=Sing\t16\tnmod\t16:nmod\t_\n",
    "21\tрезультата\tрезультат\tNOUN\t_\tAnimacy=Inan|Case=Gen|Gender=Masc|Number=Sing\t20\tnmod\t20:nmod\t_\n",
    "22\tрешения\tрешение\tNOUN\t_\tAnimacy=Inan|Case=Gen|Gender=Neut|Number=Sing\t21\tnmod\t21:nmod\t_\n",
    "23\tзадачи\tзадача\tNOUN\t_\tAnimacy=Inan|Case=Gen|Gender=Fem|Number=Sing\t22\tnmod\t22:nmod\t_\n",
    "24\tза\tза\tADP\t_\t_\t26\tcase\t26:case\t_\n",
    "25\tконечное\tконечный\tADJ\t_\tCase=Acc|Degree=Pos|Gender=Neut|Number=Sing\t26\tamod\t26:amod\t_\n",
    "26\tвремя\tвремя\tNOUN\t_\tAnimacy=Inan|Case=Acc|Gender=Neut|Number=Sing\t20\tnmod\t20:nmod\tSpaceAfter=No\n",
    "27\t.\t.\tPUNCT\t_\t_\t12\tpunct\t12:punct\t_\n",
    "```\n",
    "\n",
    "Здесь у каждой вершины есть свой идентификатор, токен, лемма, часть речи, идентификатор родительской вершины, набор грамматических параметров, роль слова в предложении, прочая информация. Нумерация вершин начинается с 1. Помимо этого нефвно добавлена вершина с номеро 0, которая будет формальным корнем дерева (даже в том случае, если предложение представлено несколькими несязными фрагментами). Попробуем построить дерево такого предложения.\n",
    "\n",
    "Для каждой вершины мы будем хранить кортеж с информацией о вершине и списком дочерних вершин. Так как в дереве нет циклов, то подобный подход не вызывает никаких проблем."
   ]
  },
  {
   "cell_type": "code",
   "execution_count": 46,
   "metadata": {},
   "outputs": [],
   "source": [
    "def loadDependencyTree(filename):\n",
    "    with open(filename) as file:\n",
    "        lines = file.read().split('\\n')\n",
    "    words = [l.split('\\t') for l in lines[:-1]]\n",
    "    \n",
    "    tokens = [w[0]+'. '+w[2] for w in words]\n",
    "    nodes = [('0. root', [])] # Нулевая вершина всегда корень.\n",
    "    nodes.extend([(t, []) for t in tokens])\n",
    "    root_no = -1\n",
    "    \n",
    "    for i, word in enumerate(words):\n",
    "        # Родителю добавляем потомка.\n",
    "        nodes[int(word[6])][1].append(nodes[i+1])\n",
    "    \n",
    "    return nodes"
   ]
  },
  {
   "cell_type": "code",
   "execution_count": 47,
   "metadata": {},
   "outputs": [
    {
     "data": {
      "text/plain": [
       "('0. root',\n",
       " [('12. набор',\n",
       "   [('1. алгоритм',\n",
       "     [('4. имя',\n",
       "       [('2. ,', []),\n",
       "        ('3. от', []),\n",
       "        ('5. ученый',\n",
       "         [('6. аль', [('8. Хорезми', [('7. -', []), ('9. ,', [])])])])]),\n",
       "      ('10. -', [])]),\n",
       "    ('11. точный', []),\n",
       "    ('13. инструкция',\n",
       "     [('15. описывать',\n",
       "       [('14. ,', []),\n",
       "        ('16. порядок',\n",
       "         [('17. действие', [('18. исполнитель', [])]),\n",
       "          ('20. достижение',\n",
       "           [('19. для', []),\n",
       "            ('21. результат', [('22. решение', [('23. задача', [])])]),\n",
       "            ('26. время', [('24. за', []), ('25. конечный', [])])])])])]),\n",
       "    ('27. .', [])])])"
      ]
     },
     "execution_count": 47,
     "metadata": {},
     "output_type": "execute_result"
    }
   ],
   "source": [
    "tree = loadDependencyTree('data/sent.txt')\n",
    "tree[0]"
   ]
  },
  {
   "cell_type": "markdown",
   "metadata": {},
   "source": [
    "Выведем дерево используя отступы при переходе с уровня на уровень."
   ]
  },
  {
   "cell_type": "code",
   "execution_count": 48,
   "metadata": {},
   "outputs": [],
   "source": [
    "def printTree(node, shift = 0):\n",
    "    print(' '*shift, node[0])\n",
    "    for child in node[1]:\n",
    "        printTree(child, shift +2)"
   ]
  },
  {
   "cell_type": "code",
   "execution_count": 50,
   "metadata": {},
   "outputs": [
    {
     "name": "stdout",
     "output_type": "stream",
     "text": [
      " 0. root\n",
      "   12. набор\n",
      "     1. алгоритм\n",
      "       4. имя\n",
      "         2. ,\n",
      "         3. от\n",
      "         5. ученый\n",
      "           6. аль\n",
      "             8. Хорезми\n",
      "               7. -\n",
      "               9. ,\n",
      "       10. -\n",
      "     11. точный\n",
      "     13. инструкция\n",
      "       15. описывать\n",
      "         14. ,\n",
      "         16. порядок\n",
      "           17. действие\n",
      "             18. исполнитель\n",
      "           20. достижение\n",
      "             19. для\n",
      "             21. результат\n",
      "               22. решение\n",
      "                 23. задача\n",
      "             26. время\n",
      "               24. за\n",
      "               25. конечный\n",
      "     27. .\n"
     ]
    }
   ],
   "source": [
    "printTree(tree[0])"
   ]
  },
  {
   "cell_type": "markdown",
   "metadata": {},
   "source": [
    "Выведем предложение по дереву по следующему алгоритму. \n",
    "1. Выводим всех потомков с номерами меньше нашего.\n",
    "2. Выводим себя.\n",
    "3. Выводим всех потомков с номерами больше нашего."
   ]
  },
  {
   "cell_type": "code",
   "execution_count": 59,
   "metadata": {},
   "outputs": [],
   "source": [
    "def printSent2(node):\n",
    "    my_no = int(node[0].split('.')[0])\n",
    "    res = []\n",
    "    for child in node[1]:\n",
    "        if my_no > int(child[0].split('.')[0]):\n",
    "            res.append(printSent1(child))\n",
    "    if my_no != 0:\n",
    "        res.append(node[0].split('.')[1])\n",
    "    for child in node[1]:\n",
    "        if my_no < int(child[0].split('.')[0]):\n",
    "            res.append(printSent1(child))\n",
    "    return ' '.join(res)"
   ]
  },
  {
   "cell_type": "code",
   "execution_count": 60,
   "metadata": {},
   "outputs": [
    {
     "data": {
      "text/plain": [
       "' алгоритм  ,  от  имя  ученый  аль  -  Хорезми  ,  -  точный  набор  инструкция  ,  описывать  порядок  действие  исполнитель  для  достижение  результат  решение  задача  за  конечный  время  '"
      ]
     },
     "execution_count": 60,
     "metadata": {},
     "output_type": "execute_result"
    }
   ],
   "source": [
    "printSent2(tree[0])"
   ]
  },
  {
   "cell_type": "markdown",
   "metadata": {},
   "source": [
    "А теперь выведем дерево по иному алгоритму.\n",
    "1. Выводим себя, открываем скобку, если есть потомки.\n",
    "2. Выводим всех потомков через запятую.\n",
    "3. Закрываем скобку, если есть потомки.\n",
    "\n",
    "Такая запись называется **прямой польской записью**. Она позволяетп по строке восстановить дерево."
   ]
  },
  {
   "cell_type": "code",
   "execution_count": 86,
   "metadata": {},
   "outputs": [],
   "source": [
    "def printSent3(node):\n",
    "    if len(node[1]) != 0:\n",
    "        res = []\n",
    "        for child in node[1]:\n",
    "            res.append(printSent3(child))\n",
    "        res = node[0].split('.')[1] + ' [' + ';'.join(res) + ']'\n",
    "    else:\n",
    "        res = node[0].split('.')[1]\n",
    "    return res"
   ]
  },
  {
   "cell_type": "code",
   "execution_count": 87,
   "metadata": {},
   "outputs": [
    {
     "data": {
      "text/plain": [
       "' root [ набор [ алгоритм [ имя [ ,; от; ученый [ аль [ Хорезми [ -; ,]]]]; -]; точный; инструкция [ описывать [ ,; порядок [ действие [ исполнитель]; достижение [ для; результат [ решение [ задача]]; время [ за; конечный]]]]]; ]]'"
      ]
     },
     "execution_count": 87,
     "metadata": {},
     "output_type": "execute_result"
    }
   ],
   "source": [
    "printSent3(tree[0])"
   ]
  },
  {
   "cell_type": "markdown",
   "metadata": {},
   "source": [
    "В обратной польской записи сперва выводятся потомки, а потом сама вершина."
   ]
  },
  {
   "cell_type": "code",
   "execution_count": 101,
   "metadata": {},
   "outputs": [],
   "source": [
    "def printSent4(node):\n",
    "    if len(node[1]) != 0:\n",
    "        res = []\n",
    "        for child in node[1]:\n",
    "            res.append(printSent4(child))\n",
    "        res = '[ ' + ';'.join(res) + ' ]' + node[0].split('.')[1]\n",
    "    else:\n",
    "        res = node[0].split('.')[1]\n",
    "    return res"
   ]
  },
  {
   "cell_type": "code",
   "execution_count": 102,
   "metadata": {},
   "outputs": [
    {
     "data": {
      "text/plain": [
       "'[ [ [ [  ,; от;[ [ [  -; , ] Хорезми ] аль ] ученый ] имя; - ] алгоритм; точный;[ [  ,;[ [  исполнитель ] действие;[  для;[ [  задача ] решение ] результат;[  за; конечный ] время ] достижение ] порядок ] описывать ] инструкция;  ] набор ] root'"
      ]
     },
     "execution_count": 102,
     "metadata": {},
     "output_type": "execute_result"
    }
   ],
   "source": [
    "printSent4(tree[0])"
   ]
  },
  {
   "cell_type": "markdown",
   "metadata": {},
   "source": [
    "Подобная запись удобна в случае если мы записываем арифметические выражения. Тогда проще сперва записать над какими операндами совершается действие, а потом саму операцию.\n",
    "\n",
    "Обе записи позволяют легко сохранить дерево в линейный формат (например, для записи в файл)."
   ]
  },
  {
   "cell_type": "code",
   "execution_count": 103,
   "metadata": {},
   "outputs": [
    {
     "data": {
      "text/plain": [
       "'[ [ 3;2 ]+ ;6 ]* '"
      ]
     },
     "execution_count": 103,
     "metadata": {},
     "output_type": "execute_result"
    }
   ],
   "source": [
    "eq = ['.* ', [('.+ ', [('.3', []), ('.2', [])]), ('.6',[])]]\n",
    "printSent4(eq)"
   ]
  },
  {
   "cell_type": "code",
   "execution_count": null,
   "metadata": {},
   "outputs": [],
   "source": []
  }
 ],
 "metadata": {
  "kernelspec": {
   "display_name": "Python 3",
   "language": "python",
   "name": "python3"
  },
  "language_info": {
   "codemirror_mode": {
    "name": "ipython",
    "version": 3
   },
   "file_extension": ".py",
   "mimetype": "text/x-python",
   "name": "python",
   "nbconvert_exporter": "python",
   "pygments_lexer": "ipython3",
   "version": "3.6.9"
  }
 },
 "nbformat": 4,
 "nbformat_minor": 4
}
