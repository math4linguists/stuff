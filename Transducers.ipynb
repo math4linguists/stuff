{
  "nbformat": 4,
  "nbformat_minor": 0,
  "metadata": {
    "colab": {
      "name": "о трансдьюсерах.ipynb",
      "provenance": [],
      "collapsed_sections": []
    },
    "kernelspec": {
      "name": "python3",
      "display_name": "Python 3"
    }
  },
  "cells": [
    {
      "cell_type": "markdown",
      "metadata": {
        "id": "Vz3CneJENIei"
      },
      "source": [
        "# о трансдьюсерах\n",
        "\n",
        "Подробное чтение есть во 2 издании [Jurafsky and Martin](http://idiom.ucsd.edu/~bakovic/compphon/Jurafsky,%20Martin.-Speech%20and%20Language%20Processing_%20An%20Introduction%20to%20Natural%20Language%20Processing%20(2007).pdf) (глава 3 и раздел 11.2)\n",
        "\n",
        "И много статей на aclweb.org\n",
        "\n",
        "---"
      ]
    },
    {
      "cell_type": "markdown",
      "metadata": {
        "id": "4S9WRv9hC8hy"
      },
      "source": [
        "Существуют трансдьюсеры. \n",
        "Они как конечные автоматы (а те -- как регулярные выражения), но умеют генерировать какой-то текст."
      ]
    },
    {
      "cell_type": "markdown",
      "metadata": {
        "id": "2FlcTHZ486iw"
      },
      "source": [
        "Идея за использованием трансдьюсеров для порождения текстов в ответ на тексты такая: неоднозначные соответствия обычно разрешаются из контекстного знания.\n",
        "\n",
        "Например, `h` транслитерируется в `ш` только если перед ней была `s`, причём `s` в таком случае не должна была превратиться в `c`.\n",
        "\n",
        "Давайте заведём два состояния: \n",
        "0. \"мы видим букву и перед ней мы видели букву s\" и \n",
        "1. \"все остальные случаи\"\n",
        "\n",
        "\n",
        "\n",
        "Если от лени свести английский язык к буквам `abfsh`, то вышерассказанныя транслитерация иллюстрируется так. Слева от двоеточия -- символ, по которому мы переходим в трансдьюсере, как в автомате. А что за дополнительная строка справа -- читайте ниже :)\n",
        "\n"
      ]
    },
    {
      "source": [
        "<img src=\"img/transducer.jpg\" height=\"300\"/>"
      ],
      "cell_type": "markdown",
      "metadata": {}
    },
    {
      "cell_type": "markdown",
      "metadata": {
        "id": "dY6YE2ru_cuc"
      },
      "source": [
        "Используется трансдьюсер так:\n",
        "в начале у меня есть строка и трансдьюсер. Я буду применять трансдьюсер к строке.\n",
        "\n",
        "---\n",
        "\n",
        "В начале я нахожусь в начальном состоянии трансдьюсера. и смотрю на нулевую букву слова.\n",
        "\n",
        "Если из моего состояния исходит стрелка в другое состояние, подписанная такой же буквой, как нулевая буква моего слова, то я оказываюсь в том другом состоянии и смотрю уже на следующую букву слова.\n",
        "\n",
        "Если из моего состояния исходит стрелка в другое состояние, подписанная эпсилоном, то я оказываюсь в том другом состоянии, но смотрю всё ещё на текущую букву слова.\n",
        "\n",
        "И так каждый раз.  \n",
        "В каждый момент времени я могу находиться в нескольких состояниях и совершаю все доступные переходы по ним.\n",
        "\n",
        "---\n",
        "\n",
        "Если в какой-то момент закончилась строка, то: если среди состояний в которых я нахожусь, есть финальное, то трансдьюсер сработал успешно и мне интересен путь, который я по нему прошёл до финального состояния.\n",
        "\n",
        "---\n",
        "\n",
        "На пути, который я прошёл по трансдьюсеру до финального состояния, были стрелки. Стрелки были подписаны какими-то символами или эпсилонами. А ещё каждой стрелке был сопоставлен ещё один символ (а может даже строка!).  \n",
        "\n",
        "Это читается так: придя в какое-то состояние, я принёс с собой некоторую строку (в нулевом состоянии она была -- пустой). Переходя по стрелке, я дописываю к этой некоторой строке то дополнительное, которое было тоже надписано на стрелке. Так, дойдя до финального состояния, я принесу в него некоторую строку, которая получилась применением трансдьюсера к оригинальной строке."
      ]
    },
    {
      "cell_type": "markdown",
      "metadata": {
        "id": "eqBjBp6SB8ke"
      },
      "source": [
        "Ниже -- использование библиотеки Helsinki Final State Technology для того, чтобы построить и использовать трансдьюсер, описанный выше. Это богатая библиотека и на ней получается построить многоогромные трансдьюсеры, автоматически глоссирующие тексты многих языков. Что-то такое рассказывал Ник.\n",
        "\n",
        "У hfst (и почему-то всех других библиотек про трансдьюсеры) есть проблемы с установкой на винду, поэтому можно, вот, в колабе."
      ]
    },
    {
      "cell_type": "markdown",
      "metadata": {
        "id": "dyXfdOayM6Dw"
      },
      "source": [
        "### создание трансдьюсера"
      ]
    },
    {
      "cell_type": "code",
      "metadata": {
        "id": "EJnfMCK36gaw",
        "outputId": "d0f0a2e5-413b-43c2-c4e0-6cb71168aa50",
        "colab": {
          "base_uri": "https://localhost:8080/",
          "height": 125
        }
      },
      "source": [
        "!python3 -m pip install hfst"
      ],
      "execution_count": null,
      "outputs": [
        {
          "output_type": "stream",
          "text": [
            "Collecting hfst\n",
            "\u001b[?25l  Downloading https://files.pythonhosted.org/packages/85/4e/c3c2efabd96de88f0e29f5f5a7a5e79b3affbededc87889f969cb8e2e4c3/hfst-3.15.0.0b0-cp36-cp36m-manylinux1_x86_64.whl (26.9MB)\n",
            "\u001b[K     |████████████████████████████████| 26.9MB 166kB/s \n",
            "\u001b[?25hInstalling collected packages: hfst\n",
            "Successfully installed hfst-3.15.0.0b0\n"
          ],
          "name": "stdout"
        }
      ]
    },
    {
      "cell_type": "code",
      "metadata": {
        "id": "O3QhYagb6j4B"
      },
      "source": [
        "import hfst\n",
        "\n",
        "# создание трансдьюсера\n",
        "\n",
        "t = hfst.HfstBasicTransducer()\n",
        "\n",
        "# описываем трансдьюсер связями: \n",
        "# <исходное состояние, \n",
        "#  результирующее состояние, \n",
        "#  символ, по которому можно перейти по этой связи, \n",
        "#  текст, который нужно породить, проходя по этой связи>\n",
        "t.add_transition(0, 0, 'a', 'а')\n",
        "t.add_transition(0, 0, 'b', 'б')\n",
        "t.add_transition(0, 0, 'f', 'ф')\n",
        "t.add_transition(0, 0, 'h', 'х')\n",
        "t.add_transition(0, 1, 's', hfst.EPSILON)  # эписилон и тут альтернатива пустой строке ('')\n",
        "t.add_transition(1, 0, 'h', \"ш\")\n",
        "t.add_transition(1, 0, 'a', 'са')\n",
        "t.add_transition(1, 0, 'b', 'сб')\n",
        "t.add_transition(1, 0, 'f', 'сф')\n",
        "\n",
        "t.add_transition(1, 2, hfst.EPSILON, 'с')  # подумайте, зачем эта строка\n",
        "\n",
        "# в hfst принято присваивать финальным вершинам веса (что-то типа вероятности)\n",
        "# нам это не нужно, но это самый простой способ пометить вершину как конечную\n",
        "t.set_final_weight(0, 1)\n",
        "t.set_final_weight(2, 1)"
      ],
      "execution_count": 2,
      "outputs": []
    },
    {
      "cell_type": "markdown",
      "metadata": {
        "id": "2h9md8tkM944"
      },
      "source": [
        "### рисование трансдьюсера"
      ]
    },
    {
      "cell_type": "code",
      "metadata": {
        "id": "Dl2626w6Gzwt",
        "outputId": "3e642a3f-0a41-46f5-e22a-c0e213c4c821",
        "colab": {
          "base_uri": "https://localhost:8080/",
          "height": 302
        }
      },
      "source": [
        "# можно нарисовать граф. для записи графов часто используется язык dot\n",
        "# конвертируем наш трансдьюсер в dot-файл\n",
        "\n",
        "# код визуализации стащен у Франа Тайерза и чуть модифицирован \n",
        "# (https://ftyers.github.io/2017-КЛ_МКЛ/hfst.html)\n",
        "\n",
        "with open(\"my_cool_transducer.dot\", 'w') as transducer_f:\n",
        "    print('digraph G { rankdir=\"LR\"', file=transducer_f)\n",
        "    print('node [fontname=\"Tahoma\",shape=circle,fontsize=14,fixedsize=true,fillcolor=\"grey\",style=filled]', file=transducer_f)\n",
        "    print('edge [fontname=\"FreeMono\",fontsize=14]', file=transducer_f)\n",
        "    for line in str(t).splitlines():\n",
        "        line = line.strip()\n",
        "        row = line.split('\\t')\n",
        "        if len(row) >= 4:\n",
        "            print(f\"{row[0]} [label=\\\"{row[0]}\\\"];\", file=transducer_f)\n",
        "            print(f\"{row[0]} -> {row[1]} [label=\\\"{row[2]}:{row[3]}\\\"];\", file=transducer_f)\n",
        "        elif len(row) == 2: # Final state\n",
        "            print(f\"{row[0]} [label=\\\"{row[0]}\\\",shape=doublecircle];\", file=transducer_f)\n",
        "    print('}', file=transducer_f)\n",
        "\n",
        "!dot -Tjpg my_cool_transducer.dot > my_cool_transducer.jpg\n",
        "from IPython.display import Image\n",
        "Image(filename='my_cool_transducer.jpg') "
      ],
      "execution_count": 17,
      "outputs": [
        {
          "output_type": "execute_result",
          "data": {
            "image/jpeg": "[encoded data removed]",
            "text/plain": [
              "<IPython.core.display.Image object>"
            ]
          },
          "metadata": {
            "tags": []
          },
          "execution_count": 17
        }
      ]
    },
    {
      "cell_type": "markdown",
      "metadata": {
        "id": "GsE-jX1oM__o"
      },
      "source": [
        "### использование трансдьюсера"
      ]
    },
    {
      "cell_type": "code",
      "metadata": {
        "id": "P7rTT8S--T7x",
        "outputId": "9650e524-0125-45a0-89ad-5cee8bbde060",
        "colab": {
          "base_uri": "https://localhost:8080/",
          "height": 87
        }
      },
      "source": [
        "from collections import defaultdict\n",
        "\n",
        "def transduce(w):\n",
        "\n",
        "    trans_di_no_eps = defaultdict(list)\n",
        "    # lookup слова в трансдьюсере отвечает списком строк, \n",
        "    # которые получились при путешествии по трансдьюсеру с нашим словом\n",
        "    # и их вероятностей. вероятности нам сейчас вроде не нужны\n",
        "    for k, vals in t.lookup(w).items():\n",
        "        # единственное, каждый раз, работая с эпсилоном, hfst запоминал это\n",
        "        # поэтому в процессе работы получаются всякие строки с кучей слов EPSILON \n",
        "        # в середине. это само по себе может быть полезно для восстановления истории\n",
        "        # но мы вроде не про это.\n",
        "        # поэтому реплейс\n",
        "        pretty_k = k.replace(hfst.EPSILON, '')\n",
        "        for v, v_proba in vals:\n",
        "            pretty_v = v.replace(hfst.EPSILON, '')\n",
        "            trans_di_no_eps[pretty_k].append((pretty_v, v_proba))\n",
        "        \n",
        "    # вообще у нас не просто список получившихся строк, а\n",
        "    # словарь, в котором обычно единственный ключ -- наше исходное слово\n",
        "    # а значение -- тот самый список получившихся строк.\n",
        "    transduced = trans_di_no_eps.get(w, [(None, 1.0)])\n",
        "\n",
        "\n",
        "    if len(transduced) != 1:\n",
        "        # иногда могут получиться несколько альтернативных строк. \n",
        "        # в мире трансдьюсеров это ок, но мы такого не ждём\n",
        "        print(f\"wow smth strange happened for word {w}: \", transduced)\n",
        "    \n",
        "    # для простоты запомним только первый вариант, даже если их несколько\n",
        "    transduction_res = transduced[0][0]\n",
        "    return transduction_res\n",
        "\n",
        "\n",
        "for w in [\"bas\", \"bah\", \"bash\", \"bashs\"]:\n",
        "    print(transduce(w))"
      ],
      "execution_count": 60,
      "outputs": [
        {
          "output_type": "stream",
          "text": [
            "бас\n",
            "бах\n",
            "баш\n",
            "башс\n"
          ],
          "name": "stdout"
        }
      ]
    },
    {
      "cell_type": "markdown",
      "metadata": {
        "id": "a3OC-nZHNCG6"
      },
      "source": [
        "## о чём лаба?"
      ]
    },
    {
      "cell_type": "markdown",
      "metadata": {
        "id": "-uWCEioDE_DT"
      },
      "source": [
        "Лаба состоит в том, чтобы уметь прочитать трансдьюсер и либо воспользоваться им для транслитерации, либо -- для поиска.\n",
        "\n",
        "Формат записи, предложенный в лабе, соблюдать не обязательно: используйте тот способ задать трансдьюсер, который вам подходит.\n",
        "\n",
        "Использовать hfst и другие трансдьюсерные библиотеки в итоговом коде не стоит: можно полагаться на них для самопроверки, но постарайтесь реализовать переходы по графу с поддержанием состояний самостоятельно.\n",
        "\n",
        "Если совсем грустно, пишите! Я больше не планирую пропадать на неделю."
      ]
    }
  ]
}